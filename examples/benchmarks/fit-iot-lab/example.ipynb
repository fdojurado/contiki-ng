{
 "cells": [
  {
   "cell_type": "markdown",
   "metadata": {
    "tags": []
   },
   "source": [
    "## First Contiki-NG application\n",
    "\n",
    "In this exercise, you will build your first Contiki-NG application and run it on an IoT-LAB M3 node."
   ]
  },
  {
   "cell_type": "markdown",
   "metadata": {},
   "source": [
    "### Build the Contiki-NG firmwares\n",
    "\n",
    "#### IoT-LAB platform support\n",
    "\n",
    "IoT-LAB boards support is not included in the Contiki-NG official repository. It is provided by the [`iot-lab-contiki-ng`]() project. Contiki-NG has a special feature to enable the of use external platform definitions by setting a `ARCH_PATH` environment variable. Thus it will use the `arch` directory pointed by this environment variable, instead of the one present in the official repository."
   ]
  },
  {
   "cell_type": "code",
   "execution_count": 1,
   "metadata": {},
   "outputs": [
    {
     "name": "stdout",
     "output_type": "stream",
     "text": [
      "env: ARCH_PATH=/home/jovyan/work/training/contiki-ng/iot-lab-contiki-ng/arch\n"
     ]
    }
   ],
   "source": [
    "%env ARCH_PATH = /home/user/iot-lab-contiki-ng/arch"
   ]
  },
  {
   "cell_type": "markdown",
   "metadata": {
    "tags": []
   },
   "source": [
    "#### Build \n",
    "\n",
    "Let's define a environment variable pointing to the `hello-world` example to shorten the command lines:"
   ]
  },
  {
   "cell_type": "code",
   "execution_count": 8,
   "metadata": {},
   "outputs": [
    {
     "name": "stdout",
     "output_type": "stream",
     "text": [
      "env: APP_DIR=../../iot-lab-contiki-ng/contiki-ng/examples/hello-world/\n"
     ]
    }
   ],
   "source": [
    "%env APP_DIR = ../../iot-lab-contiki-ng/Contiki-NG-SDWSN/examples/hello-world"
   ]
  },
  {
   "cell_type": "markdown",
   "metadata": {},
   "source": [
    "Build the firmware for the `iotlab` target and `m3` board:"
   ]
  },
  {
   "cell_type": "code",
   "execution_count": 9,
   "metadata": {},
   "outputs": [
    {
     "name": "stdout",
     "output_type": "stream",
     "text": [
      "make: Entering directory '/home/jovyan/work/training/contiki-ng/iot-lab-contiki-ng/contiki-ng/examples/hello-world'\n",
      "make: Leaving directory '/home/jovyan/work/training/contiki-ng/iot-lab-contiki-ng/contiki-ng/examples/hello-world'\n"
     ]
    }
   ],
   "source": [
    "!make -C $APP_DIR TARGET=iotlab BOARD=m3"
   ]
  },
  {
   "cell_type": "markdown",
   "metadata": {},
   "source": [
    "### Launch an experiment\n",
    "\n",
    "1. Choose your site (grenoble|lille|strasbourg):"
   ]
  },
  {
   "cell_type": "code",
   "execution_count": null,
   "metadata": {},
   "outputs": [
    {
     "name": "stdout",
     "output_type": "stream",
     "text": [
      "Linux grenoble 4.19.0-13-amd64 #1 SMP Debian 4.19.160-2 (2020-11-28) x86_64\n",
      "Welcome FIT IoT-LAB users\n",
      "\n",
      "Charter:\n",
      "* FIT IoT-LAB is shared among several users, so make reasonable use of the platform\n",
      "* Quote FIT IoT-LAB in your scientific papers. Usage of FIT IoT-LAB is free of charge.\n",
      "  In return, you must quote FIT IoT-LAB in your publication if your experiments results\n",
      "  are based on FIT IoT-LAB testbed:\n",
      "\n",
      "  1. Add acknowledgements to FIT IoT-LAB in introduction or conclusion of the publication\n",
      "  2. Add citation to the reference article of FIT IoT-LAB. See details here:\n",
      "     https://www.iot-lab.info/charter/\n",
      "  3. Send email to admin@iot-lab.info once your publication has been accepted in order\n",
      "     to update hall of fame:\n",
      "     https://www.iot-lab.info/publications/\n",
      "\n",
      "Post your issues on:\n",
      "* the user mailing-list: users@iot-lab.info\n",
      "* or the bug-tracker: https://github.com/iot-lab/iot-lab/issues\n",
      "Last login: Tue Mar 29 13:19:39 2022 from 192.168.1.254\n",
      "\u001b]0;jurado@grenoble: ~\u0007\u001b[01;32mjurado@grenoble\u001b[00m:\u001b[01;34m~\u001b[00m$ "
     ]
    }
   ],
   "source": [
    "!ssh jurado@grenoble.iot-lab.info"
   ]
  },
  {
   "cell_type": "code",
   "execution_count": null,
   "metadata": {},
   "outputs": [],
   "source": [
    "%env SITE = grenoble"
   ]
  },
  {
   "cell_type": "markdown",
   "metadata": {},
   "source": [
    "2. Submit an experiment named 'hello' of 20 minutes duration, with one M3 node on the choosen site, running the previously compiled firmware:"
   ]
  },
  {
   "cell_type": "code",
   "execution_count": null,
   "metadata": {},
   "outputs": [],
   "source": [
    "!iotlab-experiment submit \\\n",
    "    -n \"hello\" \\\n",
    "    -d 20 \\\n",
    "    -l 1,archi=m3:at86rf231+site=$SITE,$APP_DIR/hello-world.iotlab"
   ]
  },
  {
   "cell_type": "code",
   "execution_count": 7,
   "metadata": {},
   "outputs": [
    {
     "name": "stdout",
     "output_type": "stream",
     "text": [
      "HTTP Error 403: \n",
      "\t{\"code\":403,\"message\":\"Unauthorized access\"}\n"
     ]
    }
   ],
   "source": []
  },
  {
   "cell_type": "markdown",
   "metadata": {},
   "source": [
    "3. Wait for the experiment to be in the Running state:"
   ]
  },
  {
   "cell_type": "code",
   "execution_count": 7,
   "metadata": {},
   "outputs": [
    {
     "name": "stdout",
     "output_type": "stream",
     "text": [
      "HTTP Error 403: \n",
      "\t{\"code\":403,\"message\":\"Unauthorized access\"}\n"
     ]
    }
   ],
   "source": [
    "!iotlab-experiment wait --timeout 30 --cancel-on-timeout"
   ]
  },
  {
   "cell_type": "markdown",
   "metadata": {},
   "source": [
    "**Note:** If the command above returns the message `Timeout reached, cancelling experiment <exp_id>`, try to re-submit your experiment later or try on another site."
   ]
  },
  {
   "cell_type": "markdown",
   "metadata": {},
   "source": [
    "4. Check the resources allocated to the experiment:"
   ]
  },
  {
   "cell_type": "code",
   "execution_count": 8,
   "metadata": {},
   "outputs": [
    {
     "name": "stdout",
     "output_type": "stream",
     "text": [
      "HTTP Error 403: \n",
      "\t{\"code\":403,\"message\":\"Unauthorized access\"}\n"
     ]
    }
   ],
   "source": [
    "!iotlab-experiment get -ni"
   ]
  },
  {
   "cell_type": "markdown",
   "metadata": {},
   "source": [
    "And assign node ID to an environment variable:"
   ]
  },
  {
   "cell_type": "code",
   "execution_count": 9,
   "metadata": {},
   "outputs": [
    {
     "name": "stdout",
     "output_type": "stream",
     "text": [
      "env: ID=<id>\n"
     ]
    }
   ],
   "source": [
    "%env ID = <id>"
   ]
  },
  {
   "cell_type": "markdown",
   "metadata": {},
   "source": [
    "### Read the serial output\n",
    "\n",
    "The `hello-world` application prints periodically a message on its serial link, let's read it.\n",
    "\n",
    "In the Terminal, connect to the SSH frontend server. Replace `<site>` with the good value."
   ]
  },
  {
   "cell_type": "raw",
   "metadata": {},
   "source": [
    "ssh $IOTLAB_LOGIN@<site>.iot-lab.info"
   ]
  },
  {
   "cell_type": "markdown",
   "metadata": {},
   "source": [
    "Open a TCP connection to the node on port 20000"
   ]
  },
  {
   "cell_type": "raw",
   "metadata": {},
   "source": [
    "nc m3-<id> 20000"
   ]
  },
  {
   "cell_type": "markdown",
   "metadata": {},
   "source": [
    "You should read a new message each 10 seconds.\n",
    "\n",
    "If you want to see the Contiki-NG starting message, just reset your node."
   ]
  },
  {
   "cell_type": "code",
   "execution_count": 10,
   "metadata": {},
   "outputs": [
    {
     "name": "stdout",
     "output_type": "stream",
     "text": [
      "HTTP Error 403: \n",
      "\t{\"code\":403,\"message\":\"Unauthorized access\"}\n"
     ]
    }
   ],
   "source": [
    "!iotlab-node --reset"
   ]
  },
  {
   "cell_type": "markdown",
   "metadata": {},
   "source": [
    "### Free up the resources\n",
    "\n",
    "Since you finished the training, stop your experiment to free up the experiment nodes:"
   ]
  },
  {
   "cell_type": "code",
   "execution_count": 11,
   "metadata": {},
   "outputs": [
    {
     "name": "stdout",
     "output_type": "stream",
     "text": [
      "HTTP Error 403: \n",
      "\t{\"code\":403,\"message\":\"Unauthorized access\"}\n"
     ]
    }
   ],
   "source": [
    "!iotlab-experiment stop"
   ]
  },
  {
   "cell_type": "markdown",
   "metadata": {},
   "source": [
    "The serial link connection will be closed automatically."
   ]
  },
  {
   "cell_type": "code",
   "execution_count": null,
   "metadata": {},
   "outputs": [],
   "source": []
  }
 ],
 "metadata": {
  "kernelspec": {
   "display_name": "Python 3 (ipykernel)",
   "language": "python",
   "name": "python3"
  },
  "language_info": {
   "codemirror_mode": {
    "name": "ipython",
    "version": 3
   },
   "file_extension": ".py",
   "mimetype": "text/x-python",
   "name": "python",
   "nbconvert_exporter": "python",
   "pygments_lexer": "ipython3",
   "version": "3.10.2"
  }
 },
 "nbformat": 4,
 "nbformat_minor": 4
}
